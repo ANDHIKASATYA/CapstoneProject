{
  "nbformat": 4,
  "nbformat_minor": 0,
  "metadata": {
    "colab": {
      "provenance": [],
      "authorship_tag": "ABX9TyMqpZvnkqGTMFF/sUUzOTmn",
      "include_colab_link": true
    },
    "kernelspec": {
      "name": "python3",
      "display_name": "Python 3"
    },
    "language_info": {
      "name": "python"
    }
  },
  "cells": [
    {
      "cell_type": "markdown",
      "metadata": {
        "id": "view-in-github",
        "colab_type": "text"
      },
      "source": [
        "<a href=\"https://colab.research.google.com/github/Mahanta02/CapstoneProject/blob/Sentral/Training1.ipynb\" target=\"_parent\"><img src=\"https://colab.research.google.com/assets/colab-badge.svg\" alt=\"Open In Colab\"/></a>"
      ]
    },
    {
      "cell_type": "code",
      "execution_count": null,
      "metadata": {
        "colab": {
          "base_uri": "https://localhost:8080/"
        },
        "id": "rnWDq55qr3i4",
        "outputId": "003bbc96-3bcb-448d-d0ed-41596ed3146a"
      },
      "outputs": [
        {
          "output_type": "stream",
          "name": "stdout",
          "text": [
            "--2023-11-27 03:31:12--  https://prod-dcd-datasets-cache-zipfiles.s3.eu-west-1.amazonaws.com/vtjd68bmwt-1.zip\n",
            "Resolving prod-dcd-datasets-cache-zipfiles.s3.eu-west-1.amazonaws.com (prod-dcd-datasets-cache-zipfiles.s3.eu-west-1.amazonaws.com)... 52.218.109.64, 52.92.34.170, 52.218.24.112, ...\n",
            "Connecting to prod-dcd-datasets-cache-zipfiles.s3.eu-west-1.amazonaws.com (prod-dcd-datasets-cache-zipfiles.s3.eu-west-1.amazonaws.com)|52.218.109.64|:443... connected.\n",
            "HTTP request sent, awaiting response... 200 OK\n",
            "Length: 110332093 (105M) [application/zip]\n",
            "Saving to: ‘vtjd68bmwt-1.zip’\n",
            "\n",
            "vtjd68bmwt-1.zip    100%[===================>] 105.22M  34.9MB/s    in 3.0s    \n",
            "\n",
            "2023-11-27 03:31:15 (34.9 MB/s) - ‘vtjd68bmwt-1.zip’ saved [110332093/110332093]\n",
            "\n"
          ]
        }
      ],
      "source": [
        "!wget --no-check-certificate https://prod-dcd-datasets-cache-zipfiles.s3.eu-west-1.amazonaws.com/vtjd68bmwt-1.zip"
      ]
    },
    {
      "cell_type": "code",
      "source": [
        "import zipfile\n",
        "local_zip = './vtjd68bmwt-1.zip'\n",
        "zip_ref = zipfile.ZipFile(local_zip, 'r')\n",
        "zip_ref.extractall()\n",
        "\n",
        "zip_ref.close()"
      ],
      "metadata": {
        "id": "H88kPKMcus9s"
      },
      "execution_count": null,
      "outputs": []
    },
    {
      "cell_type": "code",
      "source": [
        "import os\n",
        "\n",
        "base_dir = 'Indonesian Food Image'\n",
        "subfolder = 'Clean_Data'\n",
        "Cleansub1 = 'train'\n",
        "Cleansub2 = 'test'\n",
        "print(os.path.join(base_dir,subfolder,Cleansub1,Cleansub2))\n",
        "#print(os.path.join(f'{base_dir,subfolder}/train'))\n",
        "#print(os.listdir(f'{base_dir,subfolder}/test'))"
      ],
      "metadata": {
        "colab": {
          "base_uri": "https://localhost:8080/"
        },
        "id": "f27WUMC3x1Gb",
        "outputId": "9e734e6c-976e-40c2-9e39-0a1b96adcbb7"
      },
      "execution_count": null,
      "outputs": [
        {
          "output_type": "stream",
          "name": "stdout",
          "text": [
            "Indonesian Food Image/Clean_Data/train/test\n"
          ]
        }
      ]
    },
    {
      "cell_type": "code",
      "source": [
        "import os\n",
        "#TRAIN\n",
        "train_dir1 = os.path.join(base_dir,subfolder,Cleansub1)\n",
        "bakso_train_dir = os.path.join(train_dir1, 'bakso')\n",
        "gudeg_train_dir = os.path.join(train_dir1, 'gudeg')\n",
        "bebek_train_dir = os.path.join(train_dir1, 'bebek_betutu')\n",
        "rawon_train_dir = os.path.join(train_dir1, 'rawon')\n",
        "gado_train_dir = os.path.join(train_dir1, 'gado_gado')\n",
        "nasi_train_dir = os.path.join(train_dir1, 'nasi_goreng')\n",
        "pempek_train_dir = os.path.join(train_dir1, 'pempek')\n",
        "rendang_train_dir = os.path.join(train_dir1, 'rendang')\n",
        "sate_train_dir = os.path.join(train_dir1, 'sate')\n",
        "soto_train_dir = os.path.join(train_dir1, 'soto')\n",
        "\n",
        "#TEST\n",
        "test_dir2 = os.path.join(base_dir,subfolder,Cleansub2)\n",
        "bakso_test_dir = os.path.join(test_dir2, 'bakso')\n",
        "gudeg_test_dir = os.path.join(test_dir2, 'gudeg')\n",
        "bebek_test_dir = os.path.join(test_dir2, 'bebek_betutu')\n",
        "rawon_test_dir = os.path.join(test_dir2, 'rawon')\n",
        "gado_test_dir = os.path.join(test_dir2, 'gado_gado')\n",
        "nasi_test_dir = os.path.join(test_dir2, 'nasi_goreng')\n",
        "pempek_test_dir = os.path.join(test_dir2, 'pempek')\n",
        "rendang_test_dir = os.path.join(test_dir2, 'rendang')\n",
        "sate_test_dir = os.path.join(test_dir2, 'sate')\n",
        "soto_test_dir = os.path.join(test_dir2, 'soto')\n",
        "#print(CleanData_train_dir)\n",
        "#CleanData_test_dir = os.path.join(train_dir, 'test')"
      ],
      "metadata": {
        "id": "QZyi5ler49-f"
      },
      "execution_count": null,
      "outputs": []
    },
    {
      "cell_type": "code",
      "source": [
        "#TRAIN DATA\n",
        "bakso_train_fnames = os.listdir(bakso_train_dir)\n",
        "gudeg_train_fnames = os.listdir(gudeg_train_dir)\n",
        "bebek_train_fnames = os.listdir(bebek_train_dir)\n",
        "rawon_train_fnames = os.listdir(rawon_train_dir)\n",
        "gado_train_fnames = os.listdir(gado_train_dir)\n",
        "nasi_train_fnames = os.listdir(nasi_train_dir)\n",
        "pempek_train_fnames = os.listdir(pempek_test_dir)\n",
        "rendang_train_fnames = os.listdir(rendang_train_dir)\n",
        "sate_train_fnames = os.listdir(sate_train_dir)\n",
        "soto_train_fnames = os.listdir(soto_train_dir)\n",
        "#CleanData_test_fnames = os.listdir(CleanData_test_dir)\n",
        "print(bakso_train_fnames[:5])\n",
        "print(gudeg_train_fnames[:5])\n",
        "print(bebek_train_fnames[:5])\n",
        "print(rawon_train_fnames[:5])\n",
        "print(gado_train_fnames[:5])\n",
        "print(nasi_train_fnames[:5])\n",
        "print(pempek_train_fnames[:5])\n",
        "print(rendang_train_fnames[:5])\n",
        "print(sate_train_fnames[:5])\n",
        "print(soto_train_fnames[:5])"
      ],
      "metadata": {
        "colab": {
          "base_uri": "https://localhost:8080/"
        },
        "id": "WRYFU4FK65dw",
        "outputId": "8f2a33ae-5f6e-47e6-fd18-11adc5320121"
      },
      "execution_count": null,
      "outputs": [
        {
          "output_type": "stream",
          "name": "stdout",
          "text": [
            "['pic_411.jpg', 'pic_052.jpg', 'pic_242.jpg', 'pic_448.jpg', 'pic_046.jpg']\n",
            "['gudeg_167.jpg', 'gudeg_380.jpg', 'gudeg_336.jpg', 'gudeg_376.jpg', 'gudeg_491.jpg']\n",
            "['bebek_betutu_094.jpg', 'bebek_betutu_127.jpg', 'bebek_betutu_291.jpg', 'bebek_betutu_239.jpg', 'bebek_betutu_018.jpg']\n",
            "['rawon_256.jpg', 'rawon_014.jpg', 'rawon_332.jpg', 'rawon_015.jpg', 'rawon_223.jpg']\n",
            "['pic_052.jpg', 'pic_242.jpg', 'pic_331(1).jpg', 'pic_199.jpg', 'pic_147.jpg']\n",
            "['nasi_goreng_362.jpg', 'nasi_goreng_489.jpg', 'nasi_goreng_460.jpg', 'nasi_goreng_392.jpg', 'nasi_goreng_424.jpg']\n",
            "['pempek_092.jpg', 'pempek_179.jpg', 'pempek_012.jpg', 'pempek_330.jpg', 'pempek_283.jpg']\n",
            "['pic_052.jpg', 'pic_242.jpg', 'pic_147.jpg', 'pic_154.jpg', 'pic_059.jpg']\n",
            "['pic_411.jpg', 'pic_052.jpg', 'pic_079.jpg', 'pic_448.jpg', 'pic_556.jpg']\n",
            "['soto_455.jpg', 'soto_143.jpg', 'soto_308.jpg', 'soto_137.jpg', 'soto_559.jpg']\n"
          ]
        }
      ]
    },
    {
      "cell_type": "code",
      "source": [
        "print('training bakso :', len(os.listdir(bakso_train_dir)))\n",
        "print('training gudeg :', len(os.listdir(gudeg_train_dir)))\n",
        "print('training bebek :', len(os.listdir(bebek_train_dir)))\n",
        "print('training rawon :', len(os.listdir(rawon_train_dir)))\n",
        "print('training gado :', len(os.listdir(gado_train_dir)))\n",
        "print('training nasi :', len(os.listdir(nasi_train_dir)))\n",
        "print('training pempek :', len(os.listdir(pempek_train_dir)))\n",
        "print('training rendang :', len(os.listdir(rendang_train_dir)))\n",
        "print('training sate :', len(os.listdir(sate_train_dir)))\n",
        "print('training soto :', len(os.listdir(soto_train_dir)))"
      ],
      "metadata": {
        "colab": {
          "base_uri": "https://localhost:8080/"
        },
        "id": "mchBnjXSEEq3",
        "outputId": "f805f8cc-1059-4698-bde0-496730ddc60a"
      },
      "execution_count": null,
      "outputs": [
        {
          "output_type": "stream",
          "name": "stdout",
          "text": [
            "training bakso : 315\n",
            "training gudeg : 213\n",
            "training bebek : 238\n",
            "training rawon : 235\n",
            "training gado : 263\n",
            "training nasi : 366\n",
            "training pempek : 286\n",
            "training rendang : 237\n",
            "training sate : 355\n",
            "training soto : 358\n"
          ]
        }
      ]
    },
    {
      "cell_type": "code",
      "source": [
        "import tensorflow as tf\n",
        "\n",
        "model = tf.keras.models.Sequential([\n",
        "    # Note the input shape is the desired size of the image 150x150 with 3 bytes color\n",
        "    tf.keras.layers.Conv2D(16, (3,3), activation='relu', input_shape=(150, 150, 3)),\n",
        "    tf.keras.layers.MaxPooling2D(2,2),\n",
        "    tf.keras.layers.Conv2D(32, (3,3), activation='relu'),\n",
        "    tf.keras.layers.MaxPooling2D(2,2),\n",
        "    tf.keras.layers.Conv2D(64, (3,3), activation='relu'),\n",
        "    tf.keras.layers.MaxPooling2D(2,2),\n",
        "    # Flatten the results to feed into a DNN\n",
        "    tf.keras.layers.Flatten(),\n",
        "    # 512 neuron hidden layer\n",
        "    tf.keras.layers.Dense(512, activation='relu'),\n",
        "    # Only 1 output neuron. It will contain a value from 0-1 where 0 for 1 class ('cats') and 1 for the other ('dogs')\n",
        "    tf.keras.layers.Dense(1, activation='sigmoid')\n",
        "])"
      ],
      "metadata": {
        "id": "focmQ0MRFVrj"
      },
      "execution_count": null,
      "outputs": []
    },
    {
      "cell_type": "code",
      "source": [
        "model.summary()"
      ],
      "metadata": {
        "colab": {
          "base_uri": "https://localhost:8080/"
        },
        "id": "Ut1K8nC2FeE9",
        "outputId": "17d2d6da-d3fa-4950-993d-d2ec679805f2"
      },
      "execution_count": null,
      "outputs": [
        {
          "output_type": "stream",
          "name": "stdout",
          "text": [
            "Model: \"sequential\"\n",
            "_________________________________________________________________\n",
            " Layer (type)                Output Shape              Param #   \n",
            "=================================================================\n",
            " conv2d (Conv2D)             (None, 148, 148, 16)      448       \n",
            "                                                                 \n",
            " max_pooling2d (MaxPooling2  (None, 74, 74, 16)        0         \n",
            " D)                                                              \n",
            "                                                                 \n",
            " conv2d_1 (Conv2D)           (None, 72, 72, 32)        4640      \n",
            "                                                                 \n",
            " max_pooling2d_1 (MaxPoolin  (None, 36, 36, 32)        0         \n",
            " g2D)                                                            \n",
            "                                                                 \n",
            " conv2d_2 (Conv2D)           (None, 34, 34, 64)        18496     \n",
            "                                                                 \n",
            " max_pooling2d_2 (MaxPoolin  (None, 17, 17, 64)        0         \n",
            " g2D)                                                            \n",
            "                                                                 \n",
            " flatten (Flatten)           (None, 18496)             0         \n",
            "                                                                 \n",
            " dense (Dense)               (None, 512)               9470464   \n",
            "                                                                 \n",
            " dense_1 (Dense)             (None, 1)                 513       \n",
            "                                                                 \n",
            "=================================================================\n",
            "Total params: 9494561 (36.22 MB)\n",
            "Trainable params: 9494561 (36.22 MB)\n",
            "Non-trainable params: 0 (0.00 Byte)\n",
            "_________________________________________________________________\n"
          ]
        }
      ]
    },
    {
      "cell_type": "code",
      "source": [
        "from tensorflow.keras.optimizers import RMSprop\n",
        "\n",
        "model.compile(optimizer=RMSprop(learning_rate=0.001),\n",
        "              loss='binary_crossentropy',\n",
        "              metrics = ['accuracy'])"
      ],
      "metadata": {
        "id": "KOPq-jPcFnSy"
      },
      "execution_count": null,
      "outputs": []
    },
    {
      "cell_type": "code",
      "source": [
        "import tensorflow\n",
        "from tensorflow.keras.preprocessing.image import ImageDataGenerator\n",
        "\n",
        "# All images will be rescaled by 1./255.\n",
        "train_datagen = ImageDataGenerator( rescale = 1.0/255. )\n",
        "#test_datagen  = ImageDataGenerator( rescale = 1.0/255. )\n",
        "\n",
        "# --------------------\n",
        "# Flow training images in batches of 20 using train_datagen generator\n",
        "# --------------------\n",
        "train_generator = train_datagen.flow_from_directory(train_dir1,\n",
        "                                                    batch_size=20,\n",
        "                                                    class_mode='binary',\n",
        "                                                    target_size=(150, 150))\n",
        "# --------------------"
      ],
      "metadata": {
        "colab": {
          "base_uri": "https://localhost:8080/"
        },
        "id": "fFJefhS6F6mM",
        "outputId": "b3029c1f-12fd-42e6-b6fa-d97acb4a10a2"
      },
      "execution_count": null,
      "outputs": [
        {
          "output_type": "stream",
          "name": "stdout",
          "text": [
            "Found 2866 images belonging to 10 classes.\n"
          ]
        }
      ]
    },
    {
      "cell_type": "code",
      "source": [
        "history = model.fit(\n",
        "            train_generator,\n",
        "            epochs = 20,\n",
        "            verbose = 2\n",
        "            )"
      ],
      "metadata": {
        "colab": {
          "base_uri": "https://localhost:8080/"
        },
        "id": "kFrBNlcPGLWA",
        "outputId": "27822a1f-3af3-46a9-a82a-93f8a7c79db5"
      },
      "execution_count": null,
      "outputs": [
        {
          "output_type": "stream",
          "name": "stdout",
          "text": [
            "Epoch 1/20\n",
            "144/144 - 42s - loss: -9.1997e+08 - accuracy: 0.0827 - 42s/epoch - 295ms/step\n",
            "Epoch 2/20\n",
            "144/144 - 40s - loss: -2.6700e+10 - accuracy: 0.0830 - 40s/epoch - 275ms/step\n",
            "Epoch 3/20\n",
            "144/144 - 39s - loss: -1.9421e+11 - accuracy: 0.0830 - 39s/epoch - 271ms/step\n",
            "Epoch 4/20\n",
            "144/144 - 39s - loss: -7.9206e+11 - accuracy: 0.0830 - 39s/epoch - 270ms/step\n",
            "Epoch 5/20\n",
            "144/144 - 39s - loss: -2.3363e+12 - accuracy: 0.0830 - 39s/epoch - 269ms/step\n",
            "Epoch 6/20\n",
            "144/144 - 39s - loss: -5.6246e+12 - accuracy: 0.0830 - 39s/epoch - 268ms/step\n",
            "Epoch 7/20\n",
            "144/144 - 40s - loss: -1.1970e+13 - accuracy: 0.0830 - 40s/epoch - 277ms/step\n",
            "Epoch 8/20\n",
            "144/144 - 39s - loss: -2.2961e+13 - accuracy: 0.0830 - 39s/epoch - 273ms/step\n",
            "Epoch 9/20\n",
            "144/144 - 40s - loss: -4.0520e+13 - accuracy: 0.0830 - 40s/epoch - 277ms/step\n",
            "Epoch 10/20\n",
            "144/144 - 40s - loss: -6.7546e+13 - accuracy: 0.0830 - 40s/epoch - 275ms/step\n",
            "Epoch 11/20\n",
            "144/144 - 40s - loss: -1.0782e+14 - accuracy: 0.0830 - 40s/epoch - 280ms/step\n",
            "Epoch 12/20\n",
            "144/144 - 38s - loss: -1.6376e+14 - accuracy: 0.0830 - 38s/epoch - 267ms/step\n",
            "Epoch 13/20\n",
            "144/144 - 40s - loss: -2.4251e+14 - accuracy: 0.0830 - 40s/epoch - 279ms/step\n",
            "Epoch 14/20\n",
            "144/144 - 39s - loss: -3.4832e+14 - accuracy: 0.0830 - 39s/epoch - 269ms/step\n",
            "Epoch 15/20\n",
            "144/144 - 38s - loss: -4.8703e+14 - accuracy: 0.0830 - 38s/epoch - 262ms/step\n",
            "Epoch 16/20\n",
            "144/144 - 39s - loss: -6.6629e+14 - accuracy: 0.0830 - 39s/epoch - 270ms/step\n",
            "Epoch 17/20\n",
            "144/144 - 39s - loss: -8.9737e+14 - accuracy: 0.0830 - 39s/epoch - 268ms/step\n",
            "Epoch 18/20\n",
            "144/144 - 38s - loss: -1.1861e+15 - accuracy: 0.0830 - 38s/epoch - 267ms/step\n",
            "Epoch 19/20\n",
            "144/144 - 39s - loss: -1.5461e+15 - accuracy: 0.0830 - 39s/epoch - 272ms/step\n",
            "Epoch 20/20\n",
            "144/144 - 39s - loss: -1.9861e+15 - accuracy: 0.0830 - 39s/epoch - 267ms/step\n"
          ]
        }
      ]
    }
  ]
}
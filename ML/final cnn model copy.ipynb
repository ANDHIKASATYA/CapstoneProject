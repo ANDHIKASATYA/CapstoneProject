{
 "cells": [
  {
   "cell_type": "code",
   "execution_count": 1,
   "metadata": {},
   "outputs": [],
   "source": [
    "import os\n",
    "import zipfile\n",
    "import random\n",
    "import shutil\n",
    "import scipy\n",
    "import tensorflow as tf\n",
    "from tensorflow.keras.preprocessing.image import ImageDataGenerator\n",
    "from shutil import copyfile\n",
    "import matplotlib.pyplot as plt"
   ]
  },
  {
   "cell_type": "code",
   "execution_count": 2,
   "metadata": {},
   "outputs": [],
   "source": [
    "source_path = 'C:\\\\FILE FIRMAN\\\\Indonesian Food Image\\\\\\Original'\n",
    "\n",
    "source_path_bakso = os.path.join(source_path, 'bakso')\n",
    "source_path_bebek_betutu = os.path.join(source_path, 'bebek_betutu')\n",
    "source_path_gado_gado = os.path.join(source_path, 'gado_gado')\n",
    "source_path_gudeg = os.path.join(source_path, 'gudeg')\n",
    "source_path_nasi_goreng = os.path.join(source_path, 'nasi_goreng')\n",
    "source_path_pempek = os.path.join(source_path, 'pempek')\n",
    "source_path_rawon = os.path.join(source_path, 'rawon')\n",
    "source_path_rendang = os.path.join(source_path, 'rendang')\n",
    "source_path_sate = os.path.join(source_path, 'sate')\n",
    "source_path_soto = os.path.join(source_path, 'soto')"
   ]
  },
  {
   "cell_type": "code",
   "execution_count": 3,
   "metadata": {},
   "outputs": [
    {
     "name": "stdout",
     "output_type": "stream",
     "text": [
      "There are 452 images of bakso.\n",
      "There are 515 images of bebek betutu.\n",
      "There are 383 images of gado-gado.\n",
      "There are 510 images of gudeg.\n",
      "There are 573 images of nasi goreng.\n",
      "There are 555 images of pempek.\n",
      "There are 437 images of rawon.\n",
      "There are 339 images of rendang.\n",
      "There are 532 images of sate.\n",
      "There are 723 images of soto.\n"
     ]
    }
   ],
   "source": [
    "print(f\"There are {len(os.listdir(source_path_bakso))} images of bakso.\")\n",
    "print(f\"There are {len(os.listdir(source_path_bebek_betutu))} images of bebek betutu.\")\n",
    "print(f\"There are {len(os.listdir(source_path_gado_gado))} images of gado-gado.\")\n",
    "print(f\"There are {len(os.listdir(source_path_gudeg))} images of gudeg.\")\n",
    "print(f\"There are {len(os.listdir(source_path_nasi_goreng))} images of nasi goreng.\")\n",
    "print(f\"There are {len(os.listdir(source_path_pempek))} images of pempek.\")\n",
    "print(f\"There are {len(os.listdir(source_path_rawon))} images of rawon.\")\n",
    "print(f\"There are {len(os.listdir(source_path_rendang))} images of rendang.\")\n",
    "print(f\"There are {len(os.listdir(source_path_sate))} images of sate.\")\n",
    "print(f\"There are {len(os.listdir(source_path_soto))} images of soto.\")"
   ]
  },
  {
   "cell_type": "code",
   "execution_count": 4,
   "metadata": {},
   "outputs": [],
   "source": [
    "root_dir = 'C:\\\\FILE FIRMAN\\\\Indonesian Food Image\\\\Clean_Data'\n",
    "\n",
    "if os.path.exists(root_dir):\n",
    "  shutil.rmtree(root_dir)\n",
    "\n",
    "def create_train_test_dirs(root_path):\n",
    "  os.makedirs(os.path.join(root_path, 'train'))\n",
    "  os.makedirs(os.path.join(f'{root_path}/train', 'bakso'))\n",
    "  os.makedirs(os.path.join(f'{root_path}/train', 'bebek_betutu'))\n",
    "  os.makedirs(os.path.join(f'{root_path}/train', 'gado_gado'))\n",
    "  os.makedirs(os.path.join(f'{root_path}/train', 'gudeg'))\n",
    "  os.makedirs(os.path.join(f'{root_path}/train', 'nasi_goreng'))\n",
    "  os.makedirs(os.path.join(f'{root_path}/train', 'pempek'))\n",
    "  os.makedirs(os.path.join(f'{root_path}/train', 'rawon'))\n",
    "  os.makedirs(os.path.join(f'{root_path}/train', 'rendang'))\n",
    "  os.makedirs(os.path.join(f'{root_path}/train', 'sate'))\n",
    "  os.makedirs(os.path.join(f'{root_path}/train', 'soto'))\n",
    "  os.makedirs(os.path.join(root_path, 'test'))\n",
    "  os.makedirs(os.path.join(f'{root_path}/test', 'bakso'))\n",
    "  os.makedirs(os.path.join(f'{root_path}/test', 'bebek_betutu'))\n",
    "  os.makedirs(os.path.join(f'{root_path}/test', 'gado_gado'))\n",
    "  os.makedirs(os.path.join(f'{root_path}/test', 'gudeg'))\n",
    "  os.makedirs(os.path.join(f'{root_path}/test', 'nasi_goreng'))\n",
    "  os.makedirs(os.path.join(f'{root_path}/test', 'pempek'))\n",
    "  os.makedirs(os.path.join(f'{root_path}/test', 'rawon'))\n",
    "  os.makedirs(os.path.join(f'{root_path}/test', 'rendang'))\n",
    "  os.makedirs(os.path.join(f'{root_path}/test', 'sate'))\n",
    "  os.makedirs(os.path.join(f'{root_path}/test', 'soto'))\n",
    "\n",
    "try:\n",
    "  create_train_test_dirs(root_path=root_dir)\n",
    "except FileExistsError:\n",
    "  print(\"You should not be seeing this since the upper directory is removed beforehand\")"
   ]
  },
  {
   "cell_type": "code",
   "execution_count": 5,
   "metadata": {},
   "outputs": [
    {
     "name": "stdout",
     "output_type": "stream",
     "text": [
      "C:\\FILE FIRMAN\\Indonesian Food Image\\Clean_Data\\test\n",
      "C:\\FILE FIRMAN\\Indonesian Food Image\\Clean_Data\\train\n",
      "C:\\FILE FIRMAN\\Indonesian Food Image\\Clean_Data\\test\\bakso\n",
      "C:\\FILE FIRMAN\\Indonesian Food Image\\Clean_Data\\test\\bebek_betutu\n",
      "C:\\FILE FIRMAN\\Indonesian Food Image\\Clean_Data\\test\\gado_gado\n",
      "C:\\FILE FIRMAN\\Indonesian Food Image\\Clean_Data\\test\\gudeg\n",
      "C:\\FILE FIRMAN\\Indonesian Food Image\\Clean_Data\\test\\nasi_goreng\n",
      "C:\\FILE FIRMAN\\Indonesian Food Image\\Clean_Data\\test\\pempek\n",
      "C:\\FILE FIRMAN\\Indonesian Food Image\\Clean_Data\\test\\rawon\n",
      "C:\\FILE FIRMAN\\Indonesian Food Image\\Clean_Data\\test\\rendang\n",
      "C:\\FILE FIRMAN\\Indonesian Food Image\\Clean_Data\\test\\sate\n",
      "C:\\FILE FIRMAN\\Indonesian Food Image\\Clean_Data\\test\\soto\n",
      "C:\\FILE FIRMAN\\Indonesian Food Image\\Clean_Data\\train\\bakso\n",
      "C:\\FILE FIRMAN\\Indonesian Food Image\\Clean_Data\\train\\bebek_betutu\n",
      "C:\\FILE FIRMAN\\Indonesian Food Image\\Clean_Data\\train\\gado_gado\n",
      "C:\\FILE FIRMAN\\Indonesian Food Image\\Clean_Data\\train\\gudeg\n",
      "C:\\FILE FIRMAN\\Indonesian Food Image\\Clean_Data\\train\\nasi_goreng\n",
      "C:\\FILE FIRMAN\\Indonesian Food Image\\Clean_Data\\train\\pempek\n",
      "C:\\FILE FIRMAN\\Indonesian Food Image\\Clean_Data\\train\\rawon\n",
      "C:\\FILE FIRMAN\\Indonesian Food Image\\Clean_Data\\train\\rendang\n",
      "C:\\FILE FIRMAN\\Indonesian Food Image\\Clean_Data\\train\\sate\n",
      "C:\\FILE FIRMAN\\Indonesian Food Image\\Clean_Data\\train\\soto\n"
     ]
    }
   ],
   "source": [
    "for rootdir, dirs, files in os.walk(root_dir):\n",
    "    for subdir in dirs:\n",
    "        print(os.path.join(rootdir, subdir))"
   ]
  },
  {
   "cell_type": "code",
   "execution_count": 6,
   "metadata": {},
   "outputs": [],
   "source": [
    "def split_data(SOURCE, TRAIN, TEST, SPLIT_SIZE):\n",
    "\n",
    "  shuffled_source = random.sample(os.listdir(SOURCE), len(os.listdir(SOURCE)))\n",
    "\n",
    "  train_number = int(len(shuffled_source) * SPLIT_SIZE)\n",
    "\n",
    "  i = 0\n",
    "  target = TRAIN\n",
    "\n",
    "  for item in shuffled_source:\n",
    "    item_source = os.path.join(SOURCE, item)\n",
    "    if os.path.getsize(item_source) == 0:\n",
    "      print(f'{item} is zero length, so ignoring.')\n",
    "    else: \n",
    "      copyfile(item_source, os.path.join(target, item))\n",
    "      i += 1\n",
    "\n",
    "    if i == train_number:\n",
    "      target = TEST\n"
   ]
  },
  {
   "cell_type": "code",
   "execution_count": 7,
   "metadata": {},
   "outputs": [
    {
     "name": "stdout",
     "output_type": "stream",
     "text": [
      "\n",
      "\n",
      "There are 406 images of cats for train\n",
      "There are 463 images of dogs for train\n",
      "There are 344 images of dogs for train\n",
      "There are 459 images of dogs for train\n",
      "There are 515 images of dogs for train\n",
      "There are 499 images of dogs for train\n",
      "There are 393 images of dogs for train\n",
      "There are 305 images of dogs for train\n",
      "There are 478 images of dogs for train\n",
      "There are 650 images of dogs for train\n",
      "There are 46 images of cats for test\n",
      "There are 52 images of dogs for test\n",
      "There are 39 images of cats for test\n",
      "There are 51 images of dogs for test\n",
      "There are 58 images of cats for test\n",
      "There are 56 images of dogs for test\n",
      "There are 44 images of cats for test\n",
      "There are 34 images of dogs for test\n",
      "There are 54 images of cats for test\n",
      "There are 73 images of dogs for test\n"
     ]
    }
   ],
   "source": [
    "BAKSO_SOURCE_DIR = \"C:\\\\Users\\\\Firman Satria S\\\\Downloads\\\\Compressed\\\\Indonesian Food Image\\\\Indonesian Food Image\\\\Original\\\\bakso\"\n",
    "BEBEK_BETUTU_SOURCE_DIR = \"C:\\\\Users\\\\Firman Satria S\\\\Downloads\\\\Compressed\\\\Indonesian Food Image\\\\Indonesian Food Image\\\\Original\\\\bebek_betutu\"\n",
    "GADO_GADO_SOURCE_DIR = \"C:\\\\Users\\\\Firman Satria S\\\\Downloads\\\\Compressed\\\\Indonesian Food Image\\\\Indonesian Food Image\\\\Original\\\\gado_gado\"\n",
    "GUDEG_SOURCE_DIR = \"C:\\\\Users\\\\Firman Satria S\\\\Downloads\\\\Compressed\\\\Indonesian Food Image\\\\Indonesian Food Image\\\\Original\\\\gudeg\"\n",
    "NASI_GORENG_SOURCE_DIR = \"C:\\\\Users\\\\Firman Satria S\\\\Downloads\\\\Compressed\\\\Indonesian Food Image\\\\Indonesian Food Image\\\\Original\\\\nasi_goreng\"\n",
    "PEMPEK_SOURCE_DIR = \"C:\\\\Users\\\\Firman Satria S\\\\Downloads\\\\Compressed\\\\Indonesian Food Image\\\\Indonesian Food Image\\\\Original\\\\pempek\"\n",
    "RAWON_SOURCE_DIR = \"C:\\\\Users\\\\Firman Satria S\\\\Downloads\\\\Compressed\\\\Indonesian Food Image\\\\Indonesian Food Image\\\\Original\\\\rawon\"\n",
    "RENDANG_SOURCE_DIR = \"C:\\\\Users\\\\Firman Satria S\\\\Downloads\\\\Compressed\\\\Indonesian Food Image\\\\Indonesian Food Image\\\\Original\\\\rendang\"\n",
    "SATE_SOURCE_DIR = \"C:\\\\Users\\\\Firman Satria S\\\\Downloads\\\\Compressed\\\\Indonesian Food Image\\\\Indonesian Food Image\\\\Original\\\\sate\"\n",
    "SOTO_SOURCE_DIR = \"C:\\\\Users\\\\Firman Satria S\\\\Downloads\\\\Compressed\\\\Indonesian Food Image\\\\Indonesian Food Image\\\\Original\\\\soto\"\n",
    "\n",
    "\n",
    "TRAIN_DIR = \"C:\\\\Users\\\\Firman Satria S\\\\Downloads\\\\Compressed\\\\Indonesian Food Image\\\\Indonesian Food Image\\\\Clean_Data\\\\train\"\n",
    "TEST_DIR = \"C:\\\\Users\\\\Firman Satria S\\\\Downloads\\\\Compressed\\\\Indonesian Food Image\\\\Indonesian Food Image\\\\Clean_Data\\\\test\"\n",
    "\n",
    "TRAIN_BAKSO_DIR = os.path.join(TRAIN_DIR, \"bakso/\")\n",
    "TEST_BAKSO_DIR = os.path.join(TEST_DIR, \"bakso/\")\n",
    "\n",
    "TRAIN_BEBEK_BETUTU_DIR = os.path.join(TRAIN_DIR, \"bebek_betutu/\")\n",
    "TEST_BEBEK_BETUTU_DIR = os.path.join(TEST_DIR, \"bebek_betutu/\")\n",
    "\n",
    "TRAIN_GADO_GADO_DIR = os.path.join(TRAIN_DIR, \"gado_gado/\")\n",
    "TEST_GADO_GADO_DIR = os.path.join(TEST_DIR, \"gado_gado/\")\n",
    "\n",
    "TRAIN_GUDEG_DIR = os.path.join(TRAIN_DIR, \"gudeg/\")\n",
    "TEST_GUDEG_DIR = os.path.join(TEST_DIR, \"gudeg/\")\n",
    "\n",
    "TRAIN_NASI_GORENG_DIR = os.path.join(TRAIN_DIR, \"nasi_goreng/\")\n",
    "TEST_NASI_GORENG_DIR = os.path.join(TEST_DIR, \"nasi_goreng/\")\n",
    "\n",
    "TRAIN_PEMPEK_DIR = os.path.join(TRAIN_DIR, \"pempek/\")\n",
    "TEST_PEMPEK_DIR = os.path.join(TEST_DIR, \"pempek/\")\n",
    "\n",
    "TRAIN_RAWON_DIR = os.path.join(TRAIN_DIR, \"rawon/\")\n",
    "TEST_RAWON_DIR = os.path.join(TEST_DIR, \"rawon/\")\n",
    "\n",
    "TRAIN_RENDANG_DIR = os.path.join(TRAIN_DIR, \"rendang/\")\n",
    "TEST_RENDANG_DIR = os.path.join(TEST_DIR, \"rendang/\")\n",
    "\n",
    "TRAIN_SATE_DIR = os.path.join(TRAIN_DIR, \"sate/\")\n",
    "TEST_SATE_DIR = os.path.join(TEST_DIR, \"sate/\")\n",
    "\n",
    "TRAIN_SOTO_DIR = os.path.join(TRAIN_DIR, \"soto/\")\n",
    "TEST_SOTO_DIR = os.path.join(TEST_DIR, \"soto/\")\n",
    "\n",
    "# Empty directories in case you run this cell multiple times\n",
    "if len(os.listdir(TRAIN_BAKSO_DIR)) > 0:\n",
    "  for file in os.scandir(TRAIN_BAKSO_DIR):\n",
    "    os.remove(file.path)\n",
    "if len(os.listdir(TRAIN_BEBEK_BETUTU_DIR)) > 0:\n",
    "  for file in os.scandir(TRAIN_BEBEK_BETUTU_DIR):\n",
    "    os.remove(file.path)\n",
    "if len(os.listdir(TRAIN_GADO_GADO_DIR)) > 0:\n",
    "  for file in os.scandir(TRAIN_GADO_GADO_DIR):\n",
    "    os.remove(file.path)\n",
    "if len(os.listdir(TRAIN_GUDEG_DIR)) > 0:\n",
    "  for file in os.scandir(TRAIN_GUDEG_DIR):\n",
    "    os.remove(file.path)\n",
    "if len(os.listdir(TRAIN_NASI_GORENG_DIR)) > 0:\n",
    "  for file in os.scandir(TRAIN_NASI_GORENG_DIR):\n",
    "    os.remove(file.path)\n",
    "if len(os.listdir(TRAIN_PEMPEK_DIR)) > 0:\n",
    "  for file in os.scandir(TRAIN_PEMPEK_DIR):\n",
    "    os.remove(file.path)\n",
    "if len(os.listdir(TRAIN_RAWON_DIR)) > 0:\n",
    "  for file in os.scandir(TRAIN_RAWON_DIR):\n",
    "    os.remove(file.path)\n",
    "if len(os.listdir(TRAIN_RENDANG_DIR)) > 0:\n",
    "  for file in os.scandir(TRAIN_RENDANG_DIR):\n",
    "    os.remove(file.path)\n",
    "if len(os.listdir(TRAIN_SATE_DIR)) > 0:\n",
    "  for file in os.scandir(TRAIN_SATE_DIR):\n",
    "    os.remove(file.path)\n",
    "if len(os.listdir(TRAIN_SOTO_DIR)) > 0:\n",
    "  for file in os.scandir(TRAIN_SOTO_DIR):\n",
    "    os.remove(file.path)\n",
    "\n",
    "\n",
    "if len(os.listdir(TEST_BAKSO_DIR)) > 0:\n",
    "  for file in os.scandir(TEST_BAKSO_DIR):\n",
    "    os.remove(file.path)\n",
    "if len(os.listdir(TEST_BEBEK_BETUTU_DIR)) > 0:\n",
    "  for file in os.scandir(TEST_BEBEK_BETUTU_DIR):\n",
    "    os.remove(file.path)\n",
    "if len(os.listdir(TEST_GADO_GADO_DIR)) > 0:\n",
    "  for file in os.scandir(TEST_GADO_GADO_DIR):\n",
    "    os.remove(file.path)\n",
    "if len(os.listdir(TEST_GUDEG_DIR)) > 0:\n",
    "  for file in os.scandir(TEST_GUDEG_DIR):\n",
    "    os.remove(file.path)\n",
    "if len(os.listdir(TEST_NASI_GORENG_DIR)) > 0:\n",
    "  for file in os.scandir(TEST_NASI_GORENG_DIR):\n",
    "    os.remove(file.path)\n",
    "if len(os.listdir(TEST_PEMPEK_DIR)) > 0:\n",
    "  for file in os.scandir(TEST_PEMPEK_DIR):\n",
    "    os.remove(file.path)\n",
    "if len(os.listdir(TEST_RAWON_DIR)) > 0:\n",
    "  for file in os.scandir(TEST_RAWON_DIR):\n",
    "    os.remove(file.path)\n",
    "if len(os.listdir(TEST_RENDANG_DIR)) > 0:\n",
    "  for file in os.scandir(TEST_RENDANG_DIR):\n",
    "    os.remove(file.path)\n",
    "if len(os.listdir(TEST_SATE_DIR)) > 0:\n",
    "  for file in os.scandir(TEST_SATE_DIR):\n",
    "    os.remove(file.path)\n",
    "if len(os.listdir(TEST_SOTO_DIR)) > 0:\n",
    "  for file in os.scandir(TEST_SOTO_DIR):\n",
    "    os.remove(file.path)\n",
    "\n",
    "split_size = .9\n",
    "\n",
    "split_data(BAKSO_SOURCE_DIR, TRAIN_BAKSO_DIR, TEST_BAKSO_DIR, split_size)\n",
    "split_data(BEBEK_BETUTU_SOURCE_DIR, TRAIN_BEBEK_BETUTU_DIR, TEST_BEBEK_BETUTU_DIR, split_size)\n",
    "split_data(GADO_GADO_SOURCE_DIR, TRAIN_GADO_GADO_DIR, TEST_GADO_GADO_DIR, split_size)\n",
    "split_data(GUDEG_SOURCE_DIR, TRAIN_GUDEG_DIR, TEST_GUDEG_DIR, split_size)\n",
    "split_data(NASI_GORENG_SOURCE_DIR, TRAIN_NASI_GORENG_DIR, TEST_NASI_GORENG_DIR, split_size)\n",
    "split_data(PEMPEK_SOURCE_DIR, TRAIN_PEMPEK_DIR, TEST_PEMPEK_DIR, split_size)\n",
    "split_data(RAWON_SOURCE_DIR, TRAIN_RAWON_DIR, TEST_RAWON_DIR, split_size)\n",
    "split_data(RENDANG_SOURCE_DIR, TRAIN_RENDANG_DIR, TEST_RENDANG_DIR, split_size)\n",
    "split_data(SATE_SOURCE_DIR, TRAIN_SATE_DIR, TEST_SATE_DIR, split_size)\n",
    "split_data(SOTO_SOURCE_DIR, TRAIN_SOTO_DIR, TEST_SOTO_DIR, split_size)\n",
    "\n",
    "print(f\"\\n\\nThere are {len(os.listdir(TRAIN_BAKSO_DIR))} images of cats for train\")\n",
    "print(f\"There are {len(os.listdir(TRAIN_BEBEK_BETUTU_DIR))} images of dogs for train\")\n",
    "print(f\"There are {len(os.listdir(TRAIN_GADO_GADO_DIR))} images of dogs for train\")\n",
    "print(f\"There are {len(os.listdir(TRAIN_GUDEG_DIR))} images of dogs for train\")\n",
    "print(f\"There are {len(os.listdir(TRAIN_NASI_GORENG_DIR))} images of dogs for train\")\n",
    "print(f\"There are {len(os.listdir(TRAIN_PEMPEK_DIR))} images of dogs for train\")\n",
    "print(f\"There are {len(os.listdir(TRAIN_RAWON_DIR))} images of dogs for train\")\n",
    "print(f\"There are {len(os.listdir(TRAIN_RENDANG_DIR))} images of dogs for train\")\n",
    "print(f\"There are {len(os.listdir(TRAIN_SATE_DIR))} images of dogs for train\")\n",
    "print(f\"There are {len(os.listdir(TRAIN_SOTO_DIR))} images of dogs for train\")\n",
    "\n",
    "print(f\"There are {len(os.listdir(TEST_BAKSO_DIR))} images of cats for test\")\n",
    "print(f\"There are {len(os.listdir(TEST_BEBEK_BETUTU_DIR))} images of dogs for test\")\n",
    "print(f\"There are {len(os.listdir(TEST_GADO_GADO_DIR))} images of cats for test\")\n",
    "print(f\"There are {len(os.listdir(TEST_GUDEG_DIR))} images of dogs for test\")\n",
    "print(f\"There are {len(os.listdir(TEST_NASI_GORENG_DIR))} images of cats for test\")\n",
    "print(f\"There are {len(os.listdir(TEST_PEMPEK_DIR))} images of dogs for test\")\n",
    "print(f\"There are {len(os.listdir(TEST_RAWON_DIR))} images of cats for test\")\n",
    "print(f\"There are {len(os.listdir(TEST_RENDANG_DIR))} images of dogs for test\")\n",
    "print(f\"There are {len(os.listdir(TEST_SATE_DIR))} images of cats for test\")\n",
    "print(f\"There are {len(os.listdir(TEST_SOTO_DIR))} images of dogs for test\")"
   ]
  },
  {
   "cell_type": "code",
   "execution_count": 8,
   "metadata": {},
   "outputs": [],
   "source": [
    "def train_val_generators(TRAINING_DIR, VALIDATION_DIR):\n",
    "\n",
    "  train_datagen = ImageDataGenerator(rescale = 1./255.)\n",
    "\n",
    "  train_generator = train_datagen.flow_from_directory(directory=TRAINING_DIR,\n",
    "                                                      batch_size=16,\n",
    "                                                      class_mode='categorical',\n",
    "                                                      target_size=(150, 150))\n",
    "\n",
    "  validation_datagen = ImageDataGenerator(rescale = 1./255.)\n",
    "\n",
    "  validation_generator = validation_datagen.flow_from_directory(directory=VALIDATION_DIR,\n",
    "                                                                batch_size=5,\n",
    "                                                                class_mode='categorical',\n",
    "                                                                target_size=(150, 150))\n",
    "  return train_generator, validation_generator\n"
   ]
  },
  {
   "cell_type": "code",
   "execution_count": 9,
   "metadata": {},
   "outputs": [
    {
     "name": "stdout",
     "output_type": "stream",
     "text": [
      "Found 4511 images belonging to 10 classes.\n",
      "Found 507 images belonging to 10 classes.\n"
     ]
    }
   ],
   "source": [
    "train_generator, validation_generator = train_val_generators(TRAIN_DIR, TEST_DIR)"
   ]
  },
  {
   "cell_type": "code",
   "execution_count": 12,
   "metadata": {},
   "outputs": [],
   "source": [
    "def create_model():\n",
    "\n",
    "  model = tf.keras.models.Sequential([ \n",
    "      tf.keras.layers.Conv2D(64, (3,3), activation='relu', input_shape=(150, 150, 3)),\n",
    "      tf.keras.layers.MaxPooling2D(2,2),\n",
    "      tf.keras.layers.Conv2D(32, (3,3), activation='relu'),\n",
    "      tf.keras.layers.MaxPooling2D(2,2), \n",
    "      tf.keras.layers.Conv2D(128, (3,3), activation='relu'), \n",
    "      tf.keras.layers.MaxPooling2D(2,2),\n",
    "      tf.keras.layers.Flatten(), \n",
    "      tf.keras.layers.Dense(512, activation='relu'), \n",
    "      tf.keras.layers.Dropout(0.5),\n",
    "      tf.keras.layers.Dense(256, activation='relu'), \n",
    "      tf.keras.layers.Dropout(0.5),\n",
    "      tf.keras.layers.Dense(10, activation='softmax')\n",
    "  ])\n",
    "\n",
    "  model.compile(optimizer='Adam',\n",
    "                loss='SparseCategoricalCrossEntropy',\n",
    "                metrics=['accuracy']) \n",
    "  \n",
    "  return model"
   ]
  },
  {
   "cell_type": "code",
   "execution_count": 13,
   "metadata": {},
   "outputs": [
    {
     "name": "stdout",
     "output_type": "stream",
     "text": [
      "Epoch 1/15\n"
     ]
    },
    {
     "ename": "ValueError",
     "evalue": "in user code:\n\n    File \"c:\\Users\\Firman Satria S\\AppData\\Local\\Programs\\Python\\Python311\\Lib\\site-packages\\keras\\src\\engine\\training.py\", line 1338, in train_function  *\n        return step_function(self, iterator)\n    File \"c:\\Users\\Firman Satria S\\AppData\\Local\\Programs\\Python\\Python311\\Lib\\site-packages\\keras\\src\\engine\\training.py\", line 1322, in step_function  **\n        outputs = model.distribute_strategy.run(run_step, args=(data,))\n    File \"c:\\Users\\Firman Satria S\\AppData\\Local\\Programs\\Python\\Python311\\Lib\\site-packages\\keras\\src\\engine\\training.py\", line 1303, in run_step  **\n        outputs = model.train_step(data)\n    File \"c:\\Users\\Firman Satria S\\AppData\\Local\\Programs\\Python\\Python311\\Lib\\site-packages\\keras\\src\\engine\\training.py\", line 1081, in train_step\n        loss = self.compute_loss(x, y, y_pred, sample_weight)\n    File \"c:\\Users\\Firman Satria S\\AppData\\Local\\Programs\\Python\\Python311\\Lib\\site-packages\\keras\\src\\engine\\training.py\", line 1139, in compute_loss\n        return self.compiled_loss(\n    File \"c:\\Users\\Firman Satria S\\AppData\\Local\\Programs\\Python\\Python311\\Lib\\site-packages\\keras\\src\\engine\\compile_utils.py\", line 240, in __call__\n        self.build(y_pred)\n    File \"c:\\Users\\Firman Satria S\\AppData\\Local\\Programs\\Python\\Python311\\Lib\\site-packages\\keras\\src\\engine\\compile_utils.py\", line 182, in build\n        self._losses = tf.nest.map_structure(\n    File \"c:\\Users\\Firman Satria S\\AppData\\Local\\Programs\\Python\\Python311\\Lib\\site-packages\\keras\\src\\engine\\compile_utils.py\", line 353, in _get_loss_object\n        loss = losses_mod.get(loss)\n    File \"c:\\Users\\Firman Satria S\\AppData\\Local\\Programs\\Python\\Python311\\Lib\\site-packages\\keras\\src\\losses.py\", line 2929, in get\n        return deserialize(identifier, use_legacy_format=use_legacy_format)\n    File \"c:\\Users\\Firman Satria S\\AppData\\Local\\Programs\\Python\\Python311\\Lib\\site-packages\\keras\\src\\losses.py\", line 2876, in deserialize\n        return legacy_serialization.deserialize_keras_object(\n    File \"c:\\Users\\Firman Satria S\\AppData\\Local\\Programs\\Python\\Python311\\Lib\\site-packages\\keras\\src\\saving\\legacy\\serialization.py\", line 537, in deserialize_keras_object\n        raise ValueError(\n\n    ValueError: Unknown loss function: 'SparseCategoricalCrossEntropy'. Please ensure you are using a `keras.utils.custom_object_scope` and that this object is included in the scope. See https://www.tensorflow.org/guide/keras/save_and_serialize#registering_the_custom_object for details.\n",
     "output_type": "error",
     "traceback": [
      "\u001b[1;31m---------------------------------------------------------------------------\u001b[0m",
      "\u001b[1;31mValueError\u001b[0m                                Traceback (most recent call last)",
      "\u001b[1;32mc:\\Users\\Firman Satria S\\OneDrive\\Documents\\Belajar Coding\\Python\\Capstone Project Bangkit\\final cnn model copy.ipynb Cell 11\u001b[0m line \u001b[0;36m3\n\u001b[0;32m      <a href='vscode-notebook-cell:/c%3A/Users/Firman%20Satria%20S/OneDrive/Documents/Belajar%20Coding/Python/Capstone%20Project%20Bangkit/final%20cnn%20model%20copy.ipynb#X13sZmlsZQ%3D%3D?line=0'>1</a>\u001b[0m model \u001b[39m=\u001b[39m create_model()\n\u001b[1;32m----> <a href='vscode-notebook-cell:/c%3A/Users/Firman%20Satria%20S/OneDrive/Documents/Belajar%20Coding/Python/Capstone%20Project%20Bangkit/final%20cnn%20model%20copy.ipynb#X13sZmlsZQ%3D%3D?line=2'>3</a>\u001b[0m history \u001b[39m=\u001b[39m model\u001b[39m.\u001b[39;49mfit(train_generator,\n\u001b[0;32m      <a href='vscode-notebook-cell:/c%3A/Users/Firman%20Satria%20S/OneDrive/Documents/Belajar%20Coding/Python/Capstone%20Project%20Bangkit/final%20cnn%20model%20copy.ipynb#X13sZmlsZQ%3D%3D?line=3'>4</a>\u001b[0m                     epochs\u001b[39m=\u001b[39;49m\u001b[39m15\u001b[39;49m,\n\u001b[0;32m      <a href='vscode-notebook-cell:/c%3A/Users/Firman%20Satria%20S/OneDrive/Documents/Belajar%20Coding/Python/Capstone%20Project%20Bangkit/final%20cnn%20model%20copy.ipynb#X13sZmlsZQ%3D%3D?line=4'>5</a>\u001b[0m                     verbose\u001b[39m=\u001b[39;49m\u001b[39m1\u001b[39;49m,\n\u001b[0;32m      <a href='vscode-notebook-cell:/c%3A/Users/Firman%20Satria%20S/OneDrive/Documents/Belajar%20Coding/Python/Capstone%20Project%20Bangkit/final%20cnn%20model%20copy.ipynb#X13sZmlsZQ%3D%3D?line=5'>6</a>\u001b[0m                     validation_data\u001b[39m=\u001b[39;49mvalidation_generator)\n",
      "File \u001b[1;32mc:\\Users\\Firman Satria S\\AppData\\Local\\Programs\\Python\\Python311\\Lib\\site-packages\\keras\\src\\utils\\traceback_utils.py:70\u001b[0m, in \u001b[0;36mfilter_traceback.<locals>.error_handler\u001b[1;34m(*args, **kwargs)\u001b[0m\n\u001b[0;32m     67\u001b[0m     filtered_tb \u001b[39m=\u001b[39m _process_traceback_frames(e\u001b[39m.\u001b[39m__traceback__)\n\u001b[0;32m     68\u001b[0m     \u001b[39m# To get the full stack trace, call:\u001b[39;00m\n\u001b[0;32m     69\u001b[0m     \u001b[39m# `tf.debugging.disable_traceback_filtering()`\u001b[39;00m\n\u001b[1;32m---> 70\u001b[0m     \u001b[39mraise\u001b[39;00m e\u001b[39m.\u001b[39mwith_traceback(filtered_tb) \u001b[39mfrom\u001b[39;00m \u001b[39mNone\u001b[39;00m\n\u001b[0;32m     71\u001b[0m \u001b[39mfinally\u001b[39;00m:\n\u001b[0;32m     72\u001b[0m     \u001b[39mdel\u001b[39;00m filtered_tb\n",
      "File \u001b[1;32mC:\\Users\\FIRMAN~1\\AppData\\Local\\Temp\\__autograph_generated_filejoxka3h_.py:15\u001b[0m, in \u001b[0;36mouter_factory.<locals>.inner_factory.<locals>.tf__train_function\u001b[1;34m(iterator)\u001b[0m\n\u001b[0;32m     13\u001b[0m \u001b[39mtry\u001b[39;00m:\n\u001b[0;32m     14\u001b[0m     do_return \u001b[39m=\u001b[39m \u001b[39mTrue\u001b[39;00m\n\u001b[1;32m---> 15\u001b[0m     retval_ \u001b[39m=\u001b[39m ag__\u001b[39m.\u001b[39mconverted_call(ag__\u001b[39m.\u001b[39mld(step_function), (ag__\u001b[39m.\u001b[39mld(\u001b[39mself\u001b[39m), ag__\u001b[39m.\u001b[39mld(iterator)), \u001b[39mNone\u001b[39;00m, fscope)\n\u001b[0;32m     16\u001b[0m \u001b[39mexcept\u001b[39;00m:\n\u001b[0;32m     17\u001b[0m     do_return \u001b[39m=\u001b[39m \u001b[39mFalse\u001b[39;00m\n",
      "\u001b[1;31mValueError\u001b[0m: in user code:\n\n    File \"c:\\Users\\Firman Satria S\\AppData\\Local\\Programs\\Python\\Python311\\Lib\\site-packages\\keras\\src\\engine\\training.py\", line 1338, in train_function  *\n        return step_function(self, iterator)\n    File \"c:\\Users\\Firman Satria S\\AppData\\Local\\Programs\\Python\\Python311\\Lib\\site-packages\\keras\\src\\engine\\training.py\", line 1322, in step_function  **\n        outputs = model.distribute_strategy.run(run_step, args=(data,))\n    File \"c:\\Users\\Firman Satria S\\AppData\\Local\\Programs\\Python\\Python311\\Lib\\site-packages\\keras\\src\\engine\\training.py\", line 1303, in run_step  **\n        outputs = model.train_step(data)\n    File \"c:\\Users\\Firman Satria S\\AppData\\Local\\Programs\\Python\\Python311\\Lib\\site-packages\\keras\\src\\engine\\training.py\", line 1081, in train_step\n        loss = self.compute_loss(x, y, y_pred, sample_weight)\n    File \"c:\\Users\\Firman Satria S\\AppData\\Local\\Programs\\Python\\Python311\\Lib\\site-packages\\keras\\src\\engine\\training.py\", line 1139, in compute_loss\n        return self.compiled_loss(\n    File \"c:\\Users\\Firman Satria S\\AppData\\Local\\Programs\\Python\\Python311\\Lib\\site-packages\\keras\\src\\engine\\compile_utils.py\", line 240, in __call__\n        self.build(y_pred)\n    File \"c:\\Users\\Firman Satria S\\AppData\\Local\\Programs\\Python\\Python311\\Lib\\site-packages\\keras\\src\\engine\\compile_utils.py\", line 182, in build\n        self._losses = tf.nest.map_structure(\n    File \"c:\\Users\\Firman Satria S\\AppData\\Local\\Programs\\Python\\Python311\\Lib\\site-packages\\keras\\src\\engine\\compile_utils.py\", line 353, in _get_loss_object\n        loss = losses_mod.get(loss)\n    File \"c:\\Users\\Firman Satria S\\AppData\\Local\\Programs\\Python\\Python311\\Lib\\site-packages\\keras\\src\\losses.py\", line 2929, in get\n        return deserialize(identifier, use_legacy_format=use_legacy_format)\n    File \"c:\\Users\\Firman Satria S\\AppData\\Local\\Programs\\Python\\Python311\\Lib\\site-packages\\keras\\src\\losses.py\", line 2876, in deserialize\n        return legacy_serialization.deserialize_keras_object(\n    File \"c:\\Users\\Firman Satria S\\AppData\\Local\\Programs\\Python\\Python311\\Lib\\site-packages\\keras\\src\\saving\\legacy\\serialization.py\", line 537, in deserialize_keras_object\n        raise ValueError(\n\n    ValueError: Unknown loss function: 'SparseCategoricalCrossEntropy'. Please ensure you are using a `keras.utils.custom_object_scope` and that this object is included in the scope. See https://www.tensorflow.org/guide/keras/save_and_serialize#registering_the_custom_object for details.\n"
     ]
    }
   ],
   "source": [
    "model = create_model()\n",
    "\n",
    "history = model.fit(train_generator,\n",
    "                    epochs=15,\n",
    "                    verbose=1,\n",
    "                    validation_data=validation_generator)"
   ]
  },
  {
   "cell_type": "code",
   "execution_count": null,
   "metadata": {},
   "outputs": [
    {
     "data": {
      "image/png": "[encoded data removed]",
      "text/plain": [
       "<Figure size 640x480 with 1 Axes>"
      ]
     },
     "metadata": {},
     "output_type": "display_data"
    },
    {
     "name": "stdout",
     "output_type": "stream",
     "text": [
      "\n"
     ]
    },
    {
     "data": {
      "image/png": "[encoded data removed]",
      "text/plain": [
       "<Figure size 640x480 with 1 Axes>"
      ]
     },
     "metadata": {},
     "output_type": "display_data"
    }
   ],
   "source": [
    "acc=history.history['accuracy']\n",
    "val_acc=history.history['val_accuracy']\n",
    "loss=history.history['loss']\n",
    "val_loss=history.history['val_loss']\n",
    "\n",
    "epochs=range(len(acc)) \n",
    "\n",
    "plt.plot(epochs, acc, 'r', \"Training Accuracy\")\n",
    "plt.plot(epochs, val_acc, 'b', \"Validation Accuracy\")\n",
    "plt.title('Training and validation accuracy')\n",
    "plt.show()\n",
    "print(\"\")\n",
    "\n",
    "plt.plot(epochs, loss, 'r', \"Training Loss\")\n",
    "plt.plot(epochs, val_loss, 'b', \"Validation Loss\")\n",
    "plt.show()\n"
   ]
  }
 ],
 "metadata": {
  "kernelspec": {
   "display_name": "Python 3",
   "language": "python",
   "name": "python3"
  },
  "language_info": {
   "codemirror_mode": {
    "name": "ipython",
    "version": 3
   },
   "file_extension": ".py",
   "mimetype": "text/x-python",
   "name": "python",
   "nbconvert_exporter": "python",
   "pygments_lexer": "ipython3",
   "version": "3.11.5"
  }
 },
 "nbformat": 4,
 "nbformat_minor": 2
}
